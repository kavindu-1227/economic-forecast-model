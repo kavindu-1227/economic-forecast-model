{
 "cells": [
  {
   "cell_type": "markdown",
   "id": "bfc06fad",
   "metadata": {},
   "source": [
    "### BA 4005 Task 7, Name : K.M.Hapuarachchi Index No : 19880081"
   ]
  },
  {
   "cell_type": "markdown",
   "id": "a9076c6a",
   "metadata": {},
   "source": [
    "#### Read all datasets to python"
   ]
  },
  {
   "cell_type": "code",
   "execution_count": 92,
   "id": "aa5b07d8",
   "metadata": {},
   "outputs": [],
   "source": [
    "import pandas as pd"
   ]
  },
  {
   "cell_type": "code",
   "execution_count": 93,
   "id": "59baad9a",
   "metadata": {},
   "outputs": [
    {
     "data": {
      "text/html": [
       "<div><div id=17d20006-2c41-42ca-8856-7056291eb951 style=\"display:none; background-color:#9D6CFF; color:white; width:200px; height:30px; padding-left:5px; border-radius:4px; flex-direction:row; justify-content:space-around; align-items:center;\" onmouseover=\"this.style.backgroundColor='#BA9BF8'\" onmouseout=\"this.style.backgroundColor='#9D6CFF'\" onclick=\"window.commands?.execute('create-mitosheet-from-dataframe-output');\">See Full Dataframe in Mito</div> <script> if (window.commands?.hasCommand('create-mitosheet-from-dataframe-output')) document.getElementById('17d20006-2c41-42ca-8856-7056291eb951').style.display = 'flex' </script> <table border=\"1\" class=\"dataframe\">\n",
       "  <thead>\n",
       "    <tr style=\"text-align: right;\">\n",
       "      <th></th>\n",
       "      <th>Year</th>\n",
       "      <th>Sri Lanka</th>\n",
       "      <th>Ø Asia</th>\n",
       "      <th>Ø worldwide</th>\n",
       "    </tr>\n",
       "  </thead>\n",
       "  <tbody>\n",
       "    <tr>\n",
       "      <th>0</th>\n",
       "      <td>2021</td>\n",
       "      <td>63</td>\n",
       "      <td>59.3</td>\n",
       "      <td>56.8</td>\n",
       "    </tr>\n",
       "    <tr>\n",
       "      <th>1</th>\n",
       "      <td>2020</td>\n",
       "      <td>62</td>\n",
       "      <td>58.5</td>\n",
       "      <td>56.7</td>\n",
       "    </tr>\n",
       "    <tr>\n",
       "      <th>2</th>\n",
       "      <td>2019</td>\n",
       "      <td>62</td>\n",
       "      <td>59.2</td>\n",
       "      <td>56.8</td>\n",
       "    </tr>\n",
       "    <tr>\n",
       "      <th>3</th>\n",
       "      <td>2018</td>\n",
       "      <td>62</td>\n",
       "      <td>60.0</td>\n",
       "      <td>56.9</td>\n",
       "    </tr>\n",
       "    <tr>\n",
       "      <th>4</th>\n",
       "      <td>2017</td>\n",
       "      <td>62</td>\n",
       "      <td>60.0</td>\n",
       "      <td>56.9</td>\n",
       "    </tr>\n",
       "  </tbody>\n",
       "</table></div>"
      ],
      "text/plain": [
       "   Year  Sri Lanka  Ø Asia  Ø worldwide\n",
       "0  2021         63    59.3         56.8\n",
       "1  2020         62    58.5         56.7\n",
       "2  2019         62    59.2         56.8\n",
       "3  2018         62    60.0         56.9\n",
       "4  2017         62    60.0         56.9"
      ]
     },
     "execution_count": 93,
     "metadata": {},
     "output_type": "execute_result"
    }
   ],
   "source": [
    "corr_df = pd.read_excel('Corruption.xlsx',engine='openpyxl')\n",
    "corr_df.head()"
   ]
  },
  {
   "cell_type": "code",
   "execution_count": 94,
   "id": "c971c671",
   "metadata": {},
   "outputs": [
    {
     "data": {
      "text/html": [
       "<div><div id=7ac79064-9b5e-43ec-a251-6a86cef7af9b style=\"display:none; background-color:#9D6CFF; color:white; width:200px; height:30px; padding-left:5px; border-radius:4px; flex-direction:row; justify-content:space-around; align-items:center;\" onmouseover=\"this.style.backgroundColor='#BA9BF8'\" onmouseout=\"this.style.backgroundColor='#9D6CFF'\" onclick=\"window.commands?.execute('create-mitosheet-from-dataframe-output');\">See Full Dataframe in Mito</div> <script> if (window.commands?.hasCommand('create-mitosheet-from-dataframe-output')) document.getElementById('7ac79064-9b5e-43ec-a251-6a86cef7af9b').style.display = 'flex' </script> <table border=\"1\" class=\"dataframe\">\n",
       "  <thead>\n",
       "    <tr style=\"text-align: right;\">\n",
       "      <th></th>\n",
       "      <th>Year</th>\n",
       "      <th>GDP per Capita</th>\n",
       "    </tr>\n",
       "  </thead>\n",
       "  <tbody>\n",
       "    <tr>\n",
       "      <th>0</th>\n",
       "      <td>1960</td>\n",
       "      <td>142.779622</td>\n",
       "    </tr>\n",
       "    <tr>\n",
       "      <th>1</th>\n",
       "      <td>1961</td>\n",
       "      <td>142.838142</td>\n",
       "    </tr>\n",
       "    <tr>\n",
       "      <th>2</th>\n",
       "      <td>1962</td>\n",
       "      <td>138.536654</td>\n",
       "    </tr>\n",
       "    <tr>\n",
       "      <th>3</th>\n",
       "      <td>1963</td>\n",
       "      <td>117.071988</td>\n",
       "    </tr>\n",
       "    <tr>\n",
       "      <th>4</th>\n",
       "      <td>1964</td>\n",
       "      <td>120.714348</td>\n",
       "    </tr>\n",
       "  </tbody>\n",
       "</table></div>"
      ],
      "text/plain": [
       "   Year  GDP per Capita\n",
       "0  1960      142.779622\n",
       "1  1961      142.838142\n",
       "2  1962      138.536654\n",
       "3  1963      117.071988\n",
       "4  1964      120.714348"
      ]
     },
     "execution_count": 94,
     "metadata": {},
     "output_type": "execute_result"
    }
   ],
   "source": [
    "gdp_df = pd.read_excel('gdp per capita.xlsx',engine='openpyxl')\n",
    "gdp_df.head()"
   ]
  },
  {
   "cell_type": "code",
   "execution_count": 95,
   "id": "ccb87293",
   "metadata": {},
   "outputs": [
    {
     "data": {
      "text/html": [
       "<div><div id=d857caef-ab98-4316-8f50-3f270eb6bafb style=\"display:none; background-color:#9D6CFF; color:white; width:200px; height:30px; padding-left:5px; border-radius:4px; flex-direction:row; justify-content:space-around; align-items:center;\" onmouseover=\"this.style.backgroundColor='#BA9BF8'\" onmouseout=\"this.style.backgroundColor='#9D6CFF'\" onclick=\"window.commands?.execute('create-mitosheet-from-dataframe-output');\">See Full Dataframe in Mito</div> <script> if (window.commands?.hasCommand('create-mitosheet-from-dataframe-output')) document.getElementById('d857caef-ab98-4316-8f50-3f270eb6bafb').style.display = 'flex' </script> <table border=\"1\" class=\"dataframe\">\n",
       "  <thead>\n",
       "    <tr style=\"text-align: right;\">\n",
       "      <th></th>\n",
       "      <th>Year</th>\n",
       "      <th>Treasury Bills (a)</th>\n",
       "      <th>Treasury Bonds (b) (c )</th>\n",
       "      <th>Rupee Loans</th>\n",
       "      <th>Other</th>\n",
       "      <th>Total</th>\n",
       "      <th>Foreign Debt (a) (b)</th>\n",
       "      <th>Total Debt</th>\n",
       "      <th>Domestic</th>\n",
       "      <th>Foreign</th>\n",
       "      <th>Total.1</th>\n",
       "    </tr>\n",
       "  </thead>\n",
       "  <tbody>\n",
       "    <tr>\n",
       "      <th>0</th>\n",
       "      <td>2000-01-01</td>\n",
       "      <td>134996.0</td>\n",
       "      <td>204124.0</td>\n",
       "      <td>263888.0</td>\n",
       "      <td>73652.0</td>\n",
       "      <td>676660.0</td>\n",
       "      <td>542040.0</td>\n",
       "      <td>1218700.0</td>\n",
       "      <td>53.800000</td>\n",
       "      <td>43.100000</td>\n",
       "      <td>96.900000</td>\n",
       "    </tr>\n",
       "    <tr>\n",
       "      <th>1</th>\n",
       "      <td>2001-01-01</td>\n",
       "      <td>170995.0</td>\n",
       "      <td>229174.0</td>\n",
       "      <td>292813.0</td>\n",
       "      <td>122983.0</td>\n",
       "      <td>815965.0</td>\n",
       "      <td>636741.0</td>\n",
       "      <td>1452706.0</td>\n",
       "      <td>58.000000</td>\n",
       "      <td>45.300000</td>\n",
       "      <td>103.300000</td>\n",
       "    </tr>\n",
       "    <tr>\n",
       "      <th>2</th>\n",
       "      <td>2002-01-01</td>\n",
       "      <td>210995.0</td>\n",
       "      <td>347128.0</td>\n",
       "      <td>287701.0</td>\n",
       "      <td>102562.4</td>\n",
       "      <td>948386.4</td>\n",
       "      <td>721957.0</td>\n",
       "      <td>1670343.4</td>\n",
       "      <td>60.000000</td>\n",
       "      <td>45.600000</td>\n",
       "      <td>105.600000</td>\n",
       "    </tr>\n",
       "    <tr>\n",
       "      <th>3</th>\n",
       "      <td>2003-01-01</td>\n",
       "      <td>219295.0</td>\n",
       "      <td>487504.0</td>\n",
       "      <td>248414.0</td>\n",
       "      <td>69153.0</td>\n",
       "      <td>1024366.0</td>\n",
       "      <td>843882.0</td>\n",
       "      <td>1868248.0</td>\n",
       "      <td>56.207626</td>\n",
       "      <td>46.304352</td>\n",
       "      <td>102.511978</td>\n",
       "    </tr>\n",
       "    <tr>\n",
       "      <th>4</th>\n",
       "      <td>2004-01-01</td>\n",
       "      <td>243886.0</td>\n",
       "      <td>647746.0</td>\n",
       "      <td>164758.0</td>\n",
       "      <td>91396.0</td>\n",
       "      <td>1147786.0</td>\n",
       "      <td>996138.0</td>\n",
       "      <td>2143924.0</td>\n",
       "      <td>54.895901</td>\n",
       "      <td>47.642934</td>\n",
       "      <td>102.538835</td>\n",
       "    </tr>\n",
       "  </tbody>\n",
       "</table></div>"
      ],
      "text/plain": [
       "        Year  Treasury Bills (a)  Treasury Bonds (b) (c )  Rupee Loans  \\\n",
       "0 2000-01-01            134996.0                 204124.0     263888.0   \n",
       "1 2001-01-01            170995.0                 229174.0     292813.0   \n",
       "2 2002-01-01            210995.0                 347128.0     287701.0   \n",
       "3 2003-01-01            219295.0                 487504.0     248414.0   \n",
       "4 2004-01-01            243886.0                 647746.0     164758.0   \n",
       "\n",
       "      Other      Total  Foreign Debt (a) (b)  Total Debt   Domestic  \\\n",
       "0   73652.0   676660.0              542040.0   1218700.0  53.800000   \n",
       "1  122983.0   815965.0              636741.0   1452706.0  58.000000   \n",
       "2  102562.4   948386.4              721957.0   1670343.4  60.000000   \n",
       "3   69153.0  1024366.0              843882.0   1868248.0  56.207626   \n",
       "4   91396.0  1147786.0              996138.0   2143924.0  54.895901   \n",
       "\n",
       "     Foreign     Total.1  \n",
       "0  43.100000   96.900000  \n",
       "1  45.300000  103.300000  \n",
       "2  45.600000  105.600000  \n",
       "3  46.304352  102.511978  \n",
       "4  47.642934  102.538835  "
      ]
     },
     "execution_count": 95,
     "metadata": {},
     "output_type": "execute_result"
    }
   ],
   "source": [
    "debt_df = pd.read_excel('debt gdp perc.xlsx',engine='openpyxl')\n",
    "debt_df.head()"
   ]
  },
  {
   "cell_type": "code",
   "execution_count": 96,
   "id": "157c62fe",
   "metadata": {},
   "outputs": [
    {
     "data": {
      "text/plain": [
       "Index(['Year', 'Treasury Bills (a)', 'Treasury Bonds (b) (c )', 'Rupee Loans',\n",
       "       'Other', 'Total', 'Foreign Debt (a) (b)', 'Total Debt', 'Domestic',\n",
       "       'Foreign', 'Total.1'],\n",
       "      dtype='object')"
      ]
     },
     "execution_count": 96,
     "metadata": {},
     "output_type": "execute_result"
    }
   ],
   "source": [
    "debt_df.columns"
   ]
  },
  {
   "cell_type": "code",
   "execution_count": 97,
   "id": "1d93da66",
   "metadata": {},
   "outputs": [
    {
     "data": {
      "text/html": [
       "<div><div id=c991dc02-a66c-47b1-bac9-180168df910c style=\"display:none; background-color:#9D6CFF; color:white; width:200px; height:30px; padding-left:5px; border-radius:4px; flex-direction:row; justify-content:space-around; align-items:center;\" onmouseover=\"this.style.backgroundColor='#BA9BF8'\" onmouseout=\"this.style.backgroundColor='#9D6CFF'\" onclick=\"window.commands?.execute('create-mitosheet-from-dataframe-output');\">See Full Dataframe in Mito</div> <script> if (window.commands?.hasCommand('create-mitosheet-from-dataframe-output')) document.getElementById('c991dc02-a66c-47b1-bac9-180168df910c').style.display = 'flex' </script> <table border=\"1\" class=\"dataframe\">\n",
       "  <thead>\n",
       "    <tr style=\"text-align: right;\">\n",
       "      <th></th>\n",
       "      <th>Year</th>\n",
       "      <th>Treasury Bills (a)</th>\n",
       "      <th>Treasury Bonds (b) (c )</th>\n",
       "      <th>Rupee Loans</th>\n",
       "      <th>Other</th>\n",
       "      <th>Total</th>\n",
       "      <th>Foreign Debt (a) (b)</th>\n",
       "      <th>Total Debt</th>\n",
       "      <th>Domestic</th>\n",
       "      <th>Foreign</th>\n",
       "      <th>Total.1</th>\n",
       "    </tr>\n",
       "  </thead>\n",
       "  <tbody>\n",
       "    <tr>\n",
       "      <th>0</th>\n",
       "      <td>2000</td>\n",
       "      <td>134996.0</td>\n",
       "      <td>204124.0</td>\n",
       "      <td>263888.0</td>\n",
       "      <td>73652.0</td>\n",
       "      <td>676660.0</td>\n",
       "      <td>542040.0</td>\n",
       "      <td>1218700.0</td>\n",
       "      <td>53.800000</td>\n",
       "      <td>43.100000</td>\n",
       "      <td>96.900000</td>\n",
       "    </tr>\n",
       "    <tr>\n",
       "      <th>1</th>\n",
       "      <td>2001</td>\n",
       "      <td>170995.0</td>\n",
       "      <td>229174.0</td>\n",
       "      <td>292813.0</td>\n",
       "      <td>122983.0</td>\n",
       "      <td>815965.0</td>\n",
       "      <td>636741.0</td>\n",
       "      <td>1452706.0</td>\n",
       "      <td>58.000000</td>\n",
       "      <td>45.300000</td>\n",
       "      <td>103.300000</td>\n",
       "    </tr>\n",
       "    <tr>\n",
       "      <th>2</th>\n",
       "      <td>2002</td>\n",
       "      <td>210995.0</td>\n",
       "      <td>347128.0</td>\n",
       "      <td>287701.0</td>\n",
       "      <td>102562.4</td>\n",
       "      <td>948386.4</td>\n",
       "      <td>721957.0</td>\n",
       "      <td>1670343.4</td>\n",
       "      <td>60.000000</td>\n",
       "      <td>45.600000</td>\n",
       "      <td>105.600000</td>\n",
       "    </tr>\n",
       "    <tr>\n",
       "      <th>3</th>\n",
       "      <td>2003</td>\n",
       "      <td>219295.0</td>\n",
       "      <td>487504.0</td>\n",
       "      <td>248414.0</td>\n",
       "      <td>69153.0</td>\n",
       "      <td>1024366.0</td>\n",
       "      <td>843882.0</td>\n",
       "      <td>1868248.0</td>\n",
       "      <td>56.207626</td>\n",
       "      <td>46.304352</td>\n",
       "      <td>102.511978</td>\n",
       "    </tr>\n",
       "    <tr>\n",
       "      <th>4</th>\n",
       "      <td>2004</td>\n",
       "      <td>243886.0</td>\n",
       "      <td>647746.0</td>\n",
       "      <td>164758.0</td>\n",
       "      <td>91396.0</td>\n",
       "      <td>1147786.0</td>\n",
       "      <td>996138.0</td>\n",
       "      <td>2143924.0</td>\n",
       "      <td>54.895901</td>\n",
       "      <td>47.642934</td>\n",
       "      <td>102.538835</td>\n",
       "    </tr>\n",
       "  </tbody>\n",
       "</table></div>"
      ],
      "text/plain": [
       "   Year  Treasury Bills (a)  Treasury Bonds (b) (c )  Rupee Loans     Other  \\\n",
       "0  2000            134996.0                 204124.0     263888.0   73652.0   \n",
       "1  2001            170995.0                 229174.0     292813.0  122983.0   \n",
       "2  2002            210995.0                 347128.0     287701.0  102562.4   \n",
       "3  2003            219295.0                 487504.0     248414.0   69153.0   \n",
       "4  2004            243886.0                 647746.0     164758.0   91396.0   \n",
       "\n",
       "       Total  Foreign Debt (a) (b)  Total Debt   Domestic    Foreign  \\\n",
       "0   676660.0              542040.0   1218700.0  53.800000  43.100000   \n",
       "1   815965.0              636741.0   1452706.0  58.000000  45.300000   \n",
       "2   948386.4              721957.0   1670343.4  60.000000  45.600000   \n",
       "3  1024366.0              843882.0   1868248.0  56.207626  46.304352   \n",
       "4  1147786.0              996138.0   2143924.0  54.895901  47.642934   \n",
       "\n",
       "      Total.1  \n",
       "0   96.900000  \n",
       "1  103.300000  \n",
       "2  105.600000  \n",
       "3  102.511978  \n",
       "4  102.538835  "
      ]
     },
     "execution_count": 97,
     "metadata": {},
     "output_type": "execute_result"
    }
   ],
   "source": [
    "debt_df['Year'] = pd.to_datetime(debt_df['Year'])\n",
    "debt_df['Year'] = pd.DatetimeIndex(debt_df['Year']).year\n",
    "debt_df.head()"
   ]
  },
  {
   "cell_type": "code",
   "execution_count": 98,
   "id": "e05bedf3",
   "metadata": {},
   "outputs": [],
   "source": [
    "debt_df=debt_df.drop(columns =['Treasury Bills (a)', 'Treasury Bonds (b) (c )', 'Rupee Loans',\n",
    "       'Other', 'Total', 'Foreign Debt (a) (b)', 'Total Debt', 'Domestic',\n",
    "       'Foreign'])"
   ]
  },
  {
   "cell_type": "code",
   "execution_count": 99,
   "id": "9bd5a706",
   "metadata": {},
   "outputs": [
    {
     "data": {
      "text/html": [
       "<div><div id=704297e8-88d6-4b19-818e-95003b6e4e9b style=\"display:none; background-color:#9D6CFF; color:white; width:200px; height:30px; padding-left:5px; border-radius:4px; flex-direction:row; justify-content:space-around; align-items:center;\" onmouseover=\"this.style.backgroundColor='#BA9BF8'\" onmouseout=\"this.style.backgroundColor='#9D6CFF'\" onclick=\"window.commands?.execute('create-mitosheet-from-dataframe-output');\">See Full Dataframe in Mito</div> <script> if (window.commands?.hasCommand('create-mitosheet-from-dataframe-output')) document.getElementById('704297e8-88d6-4b19-818e-95003b6e4e9b').style.display = 'flex' </script> <table border=\"1\" class=\"dataframe\">\n",
       "  <thead>\n",
       "    <tr style=\"text-align: right;\">\n",
       "      <th></th>\n",
       "      <th>Year</th>\n",
       "      <th>Total.1</th>\n",
       "    </tr>\n",
       "  </thead>\n",
       "  <tbody>\n",
       "    <tr>\n",
       "      <th>0</th>\n",
       "      <td>2000</td>\n",
       "      <td>96.900000</td>\n",
       "    </tr>\n",
       "    <tr>\n",
       "      <th>1</th>\n",
       "      <td>2001</td>\n",
       "      <td>103.300000</td>\n",
       "    </tr>\n",
       "    <tr>\n",
       "      <th>2</th>\n",
       "      <td>2002</td>\n",
       "      <td>105.600000</td>\n",
       "    </tr>\n",
       "    <tr>\n",
       "      <th>3</th>\n",
       "      <td>2003</td>\n",
       "      <td>102.511978</td>\n",
       "    </tr>\n",
       "    <tr>\n",
       "      <th>4</th>\n",
       "      <td>2004</td>\n",
       "      <td>102.538835</td>\n",
       "    </tr>\n",
       "  </tbody>\n",
       "</table></div>"
      ],
      "text/plain": [
       "   Year     Total.1\n",
       "0  2000   96.900000\n",
       "1  2001  103.300000\n",
       "2  2002  105.600000\n",
       "3  2003  102.511978\n",
       "4  2004  102.538835"
      ]
     },
     "execution_count": 99,
     "metadata": {},
     "output_type": "execute_result"
    }
   ],
   "source": [
    "debt_df.head()"
   ]
  },
  {
   "cell_type": "code",
   "execution_count": 100,
   "id": "1faed12b",
   "metadata": {},
   "outputs": [],
   "source": [
    "debt_df.columns = ['Year','Debt to GDP']"
   ]
  },
  {
   "cell_type": "code",
   "execution_count": 101,
   "id": "fb5b04d7",
   "metadata": {},
   "outputs": [
    {
     "data": {
      "text/html": [
       "<div><div id=6aafb5c1-6bfa-4dd1-9cd7-4570c3daa6aa style=\"display:none; background-color:#9D6CFF; color:white; width:200px; height:30px; padding-left:5px; border-radius:4px; flex-direction:row; justify-content:space-around; align-items:center;\" onmouseover=\"this.style.backgroundColor='#BA9BF8'\" onmouseout=\"this.style.backgroundColor='#9D6CFF'\" onclick=\"window.commands?.execute('create-mitosheet-from-dataframe-output');\">See Full Dataframe in Mito</div> <script> if (window.commands?.hasCommand('create-mitosheet-from-dataframe-output')) document.getElementById('6aafb5c1-6bfa-4dd1-9cd7-4570c3daa6aa').style.display = 'flex' </script> <table border=\"1\" class=\"dataframe\">\n",
       "  <thead>\n",
       "    <tr style=\"text-align: right;\">\n",
       "      <th></th>\n",
       "      <th>Year</th>\n",
       "      <th>Debt to GDP</th>\n",
       "    </tr>\n",
       "  </thead>\n",
       "  <tbody>\n",
       "    <tr>\n",
       "      <th>0</th>\n",
       "      <td>2000</td>\n",
       "      <td>96.900000</td>\n",
       "    </tr>\n",
       "    <tr>\n",
       "      <th>1</th>\n",
       "      <td>2001</td>\n",
       "      <td>103.300000</td>\n",
       "    </tr>\n",
       "    <tr>\n",
       "      <th>2</th>\n",
       "      <td>2002</td>\n",
       "      <td>105.600000</td>\n",
       "    </tr>\n",
       "    <tr>\n",
       "      <th>3</th>\n",
       "      <td>2003</td>\n",
       "      <td>102.511978</td>\n",
       "    </tr>\n",
       "    <tr>\n",
       "      <th>4</th>\n",
       "      <td>2004</td>\n",
       "      <td>102.538835</td>\n",
       "    </tr>\n",
       "  </tbody>\n",
       "</table></div>"
      ],
      "text/plain": [
       "   Year  Debt to GDP\n",
       "0  2000    96.900000\n",
       "1  2001   103.300000\n",
       "2  2002   105.600000\n",
       "3  2003   102.511978\n",
       "4  2004   102.538835"
      ]
     },
     "execution_count": 101,
     "metadata": {},
     "output_type": "execute_result"
    }
   ],
   "source": [
    "debt_df.head()"
   ]
  },
  {
   "cell_type": "code",
   "execution_count": 54,
   "id": "f300fbcd",
   "metadata": {},
   "outputs": [
    {
     "data": {
      "text/plain": [
       "Year             int64\n",
       "Debt to GDP    float64\n",
       "dtype: object"
      ]
     },
     "execution_count": 54,
     "metadata": {},
     "output_type": "execute_result"
    }
   ],
   "source": [
    "debt_df.dtypes"
   ]
  },
  {
   "cell_type": "markdown",
   "id": "84f57dfd",
   "metadata": {},
   "source": [
    "#### final df"
   ]
  },
  {
   "cell_type": "code",
   "execution_count": 55,
   "id": "4e52eb29",
   "metadata": {},
   "outputs": [
    {
     "data": {
      "text/html": [
       "<div><div id=ae01a720-f473-4f37-8c0c-71abe9b4f2e9 style=\"display:none; background-color:#9D6CFF; color:white; width:200px; height:30px; padding-left:5px; border-radius:4px; flex-direction:row; justify-content:space-around; align-items:center;\" onmouseover=\"this.style.backgroundColor='#BA9BF8'\" onmouseout=\"this.style.backgroundColor='#9D6CFF'\" onclick=\"window.commands?.execute('create-mitosheet-from-dataframe-output');\">See Full Dataframe in Mito</div> <script> if (window.commands?.hasCommand('create-mitosheet-from-dataframe-output')) document.getElementById('ae01a720-f473-4f37-8c0c-71abe9b4f2e9').style.display = 'flex' </script> <table border=\"1\" class=\"dataframe\">\n",
       "  <thead>\n",
       "    <tr style=\"text-align: right;\">\n",
       "      <th></th>\n",
       "      <th>Year</th>\n",
       "      <th>GDP per Capita</th>\n",
       "      <th>Debt to GDP</th>\n",
       "    </tr>\n",
       "  </thead>\n",
       "  <tbody>\n",
       "    <tr>\n",
       "      <th>0</th>\n",
       "      <td>1960</td>\n",
       "      <td>142.779622</td>\n",
       "      <td>NaN</td>\n",
       "    </tr>\n",
       "    <tr>\n",
       "      <th>1</th>\n",
       "      <td>1961</td>\n",
       "      <td>142.838142</td>\n",
       "      <td>NaN</td>\n",
       "    </tr>\n",
       "    <tr>\n",
       "      <th>2</th>\n",
       "      <td>1962</td>\n",
       "      <td>138.536654</td>\n",
       "      <td>NaN</td>\n",
       "    </tr>\n",
       "    <tr>\n",
       "      <th>3</th>\n",
       "      <td>1963</td>\n",
       "      <td>117.071988</td>\n",
       "      <td>NaN</td>\n",
       "    </tr>\n",
       "    <tr>\n",
       "      <th>4</th>\n",
       "      <td>1964</td>\n",
       "      <td>120.714348</td>\n",
       "      <td>NaN</td>\n",
       "    </tr>\n",
       "  </tbody>\n",
       "</table></div>"
      ],
      "text/plain": [
       "   Year  GDP per Capita  Debt to GDP\n",
       "0  1960      142.779622          NaN\n",
       "1  1961      142.838142          NaN\n",
       "2  1962      138.536654          NaN\n",
       "3  1963      117.071988          NaN\n",
       "4  1964      120.714348          NaN"
      ]
     },
     "execution_count": 55,
     "metadata": {},
     "output_type": "execute_result"
    }
   ],
   "source": [
    "final_df=gdp_df.merge(debt_df,how='left',left_on='Year',right_on='Year')\n",
    "final_df.head()"
   ]
  },
  {
   "cell_type": "code",
   "execution_count": 56,
   "id": "277b90e4",
   "metadata": {},
   "outputs": [
    {
     "data": {
      "text/html": [
       "<div><div id=f81b568a-51dd-407d-953f-c6d33e93b327 style=\"display:none; background-color:#9D6CFF; color:white; width:200px; height:30px; padding-left:5px; border-radius:4px; flex-direction:row; justify-content:space-around; align-items:center;\" onmouseover=\"this.style.backgroundColor='#BA9BF8'\" onmouseout=\"this.style.backgroundColor='#9D6CFF'\" onclick=\"window.commands?.execute('create-mitosheet-from-dataframe-output');\">See Full Dataframe in Mito</div> <script> if (window.commands?.hasCommand('create-mitosheet-from-dataframe-output')) document.getElementById('f81b568a-51dd-407d-953f-c6d33e93b327').style.display = 'flex' </script> <table border=\"1\" class=\"dataframe\">\n",
       "  <thead>\n",
       "    <tr style=\"text-align: right;\">\n",
       "      <th></th>\n",
       "      <th>Year</th>\n",
       "      <th>GDP per Capita</th>\n",
       "      <th>Debt to GDP</th>\n",
       "      <th>Sri Lanka</th>\n",
       "      <th>Ø Asia</th>\n",
       "      <th>Ø worldwide</th>\n",
       "    </tr>\n",
       "  </thead>\n",
       "  <tbody>\n",
       "    <tr>\n",
       "      <th>0</th>\n",
       "      <td>1960</td>\n",
       "      <td>142.779622</td>\n",
       "      <td>NaN</td>\n",
       "      <td>NaN</td>\n",
       "      <td>NaN</td>\n",
       "      <td>NaN</td>\n",
       "    </tr>\n",
       "    <tr>\n",
       "      <th>1</th>\n",
       "      <td>1961</td>\n",
       "      <td>142.838142</td>\n",
       "      <td>NaN</td>\n",
       "      <td>NaN</td>\n",
       "      <td>NaN</td>\n",
       "      <td>NaN</td>\n",
       "    </tr>\n",
       "    <tr>\n",
       "      <th>2</th>\n",
       "      <td>1962</td>\n",
       "      <td>138.536654</td>\n",
       "      <td>NaN</td>\n",
       "      <td>NaN</td>\n",
       "      <td>NaN</td>\n",
       "      <td>NaN</td>\n",
       "    </tr>\n",
       "    <tr>\n",
       "      <th>3</th>\n",
       "      <td>1963</td>\n",
       "      <td>117.071988</td>\n",
       "      <td>NaN</td>\n",
       "      <td>NaN</td>\n",
       "      <td>NaN</td>\n",
       "      <td>NaN</td>\n",
       "    </tr>\n",
       "    <tr>\n",
       "      <th>4</th>\n",
       "      <td>1964</td>\n",
       "      <td>120.714348</td>\n",
       "      <td>NaN</td>\n",
       "      <td>NaN</td>\n",
       "      <td>NaN</td>\n",
       "      <td>NaN</td>\n",
       "    </tr>\n",
       "  </tbody>\n",
       "</table></div>"
      ],
      "text/plain": [
       "   Year  GDP per Capita  Debt to GDP  Sri Lanka  Ø Asia  Ø worldwide\n",
       "0  1960      142.779622          NaN        NaN     NaN          NaN\n",
       "1  1961      142.838142          NaN        NaN     NaN          NaN\n",
       "2  1962      138.536654          NaN        NaN     NaN          NaN\n",
       "3  1963      117.071988          NaN        NaN     NaN          NaN\n",
       "4  1964      120.714348          NaN        NaN     NaN          NaN"
      ]
     },
     "execution_count": 56,
     "metadata": {},
     "output_type": "execute_result"
    }
   ],
   "source": [
    "final_df=final_df.merge(corr_df,how='left',left_on='Year',right_on='Year')\n",
    "final_df.head()"
   ]
  },
  {
   "cell_type": "code",
   "execution_count": 57,
   "id": "85cb797e",
   "metadata": {},
   "outputs": [
    {
     "data": {
      "text/plain": [
       "Index(['Year', 'GDP per Capita', 'Debt to GDP', 'Sri Lanka', 'Ø Asia',\n",
       "       'Ø worldwide'],\n",
       "      dtype='object')"
      ]
     },
     "execution_count": 57,
     "metadata": {},
     "output_type": "execute_result"
    }
   ],
   "source": [
    "final_df.columns"
   ]
  },
  {
   "cell_type": "code",
   "execution_count": 58,
   "id": "ae4de665",
   "metadata": {},
   "outputs": [],
   "source": [
    "final_df=final_df.drop(columns=['Ø Asia',\n",
    "       'Ø worldwide'])"
   ]
  },
  {
   "cell_type": "code",
   "execution_count": 59,
   "id": "95eecd11",
   "metadata": {},
   "outputs": [
    {
     "data": {
      "text/html": [
       "<div><div id=a70675b7-4531-4799-bc68-a5dac1b20da5 style=\"display:none; background-color:#9D6CFF; color:white; width:200px; height:30px; padding-left:5px; border-radius:4px; flex-direction:row; justify-content:space-around; align-items:center;\" onmouseover=\"this.style.backgroundColor='#BA9BF8'\" onmouseout=\"this.style.backgroundColor='#9D6CFF'\" onclick=\"window.commands?.execute('create-mitosheet-from-dataframe-output');\">See Full Dataframe in Mito</div> <script> if (window.commands?.hasCommand('create-mitosheet-from-dataframe-output')) document.getElementById('a70675b7-4531-4799-bc68-a5dac1b20da5').style.display = 'flex' </script> <table border=\"1\" class=\"dataframe\">\n",
       "  <thead>\n",
       "    <tr style=\"text-align: right;\">\n",
       "      <th></th>\n",
       "      <th>Year</th>\n",
       "      <th>GDP per Capita</th>\n",
       "      <th>Debt to GDP</th>\n",
       "      <th>Corruption Ind</th>\n",
       "    </tr>\n",
       "  </thead>\n",
       "  <tbody>\n",
       "    <tr>\n",
       "      <th>0</th>\n",
       "      <td>1960</td>\n",
       "      <td>142.779622</td>\n",
       "      <td>NaN</td>\n",
       "      <td>NaN</td>\n",
       "    </tr>\n",
       "    <tr>\n",
       "      <th>1</th>\n",
       "      <td>1961</td>\n",
       "      <td>142.838142</td>\n",
       "      <td>NaN</td>\n",
       "      <td>NaN</td>\n",
       "    </tr>\n",
       "    <tr>\n",
       "      <th>2</th>\n",
       "      <td>1962</td>\n",
       "      <td>138.536654</td>\n",
       "      <td>NaN</td>\n",
       "      <td>NaN</td>\n",
       "    </tr>\n",
       "    <tr>\n",
       "      <th>3</th>\n",
       "      <td>1963</td>\n",
       "      <td>117.071988</td>\n",
       "      <td>NaN</td>\n",
       "      <td>NaN</td>\n",
       "    </tr>\n",
       "    <tr>\n",
       "      <th>4</th>\n",
       "      <td>1964</td>\n",
       "      <td>120.714348</td>\n",
       "      <td>NaN</td>\n",
       "      <td>NaN</td>\n",
       "    </tr>\n",
       "  </tbody>\n",
       "</table></div>"
      ],
      "text/plain": [
       "   Year  GDP per Capita  Debt to GDP  Corruption Ind\n",
       "0  1960      142.779622          NaN             NaN\n",
       "1  1961      142.838142          NaN             NaN\n",
       "2  1962      138.536654          NaN             NaN\n",
       "3  1963      117.071988          NaN             NaN\n",
       "4  1964      120.714348          NaN             NaN"
      ]
     },
     "execution_count": 59,
     "metadata": {},
     "output_type": "execute_result"
    }
   ],
   "source": [
    "final_df=final_df.rename(columns={'Sri Lanka':'Corruption Ind'})\n",
    "final_df.head()"
   ]
  },
  {
   "cell_type": "markdown",
   "id": "59a5e6ea",
   "metadata": {},
   "source": [
    "#### Filter Records After 2000"
   ]
  },
  {
   "cell_type": "code",
   "execution_count": 60,
   "id": "db6ef910",
   "metadata": {},
   "outputs": [],
   "source": [
    "final_df=final_df[final_df['Year']>=2000]\n",
    "final_df=final_df[final_df['Year']<2022]"
   ]
  },
  {
   "cell_type": "code",
   "execution_count": 61,
   "id": "d61dae36",
   "metadata": {},
   "outputs": [
    {
     "data": {
      "text/html": [
       "<div><div id=d127dcd2-1fdd-4d89-96c7-74089fdc14e1 style=\"display:none; background-color:#9D6CFF; color:white; width:200px; height:30px; padding-left:5px; border-radius:4px; flex-direction:row; justify-content:space-around; align-items:center;\" onmouseover=\"this.style.backgroundColor='#BA9BF8'\" onmouseout=\"this.style.backgroundColor='#9D6CFF'\" onclick=\"window.commands?.execute('create-mitosheet-from-dataframe-output');\">See Full Dataframe in Mito</div> <script> if (window.commands?.hasCommand('create-mitosheet-from-dataframe-output')) document.getElementById('d127dcd2-1fdd-4d89-96c7-74089fdc14e1').style.display = 'flex' </script> <table border=\"1\" class=\"dataframe\">\n",
       "  <thead>\n",
       "    <tr style=\"text-align: right;\">\n",
       "      <th></th>\n",
       "      <th>Year</th>\n",
       "      <th>GDP per Capita</th>\n",
       "      <th>Debt to GDP</th>\n",
       "      <th>Corruption Ind</th>\n",
       "    </tr>\n",
       "  </thead>\n",
       "  <tbody>\n",
       "    <tr>\n",
       "      <th>40</th>\n",
       "      <td>2000</td>\n",
       "      <td>869.696285</td>\n",
       "      <td>96.900000</td>\n",
       "      <td>NaN</td>\n",
       "    </tr>\n",
       "    <tr>\n",
       "      <th>41</th>\n",
       "      <td>2001</td>\n",
       "      <td>832.803572</td>\n",
       "      <td>103.300000</td>\n",
       "      <td>NaN</td>\n",
       "    </tr>\n",
       "    <tr>\n",
       "      <th>42</th>\n",
       "      <td>2002</td>\n",
       "      <td>867.491487</td>\n",
       "      <td>105.600000</td>\n",
       "      <td>NaN</td>\n",
       "    </tr>\n",
       "    <tr>\n",
       "      <th>43</th>\n",
       "      <td>2003</td>\n",
       "      <td>982.195697</td>\n",
       "      <td>102.511978</td>\n",
       "      <td>66.0</td>\n",
       "    </tr>\n",
       "    <tr>\n",
       "      <th>44</th>\n",
       "      <td>2004</td>\n",
       "      <td>1065.784437</td>\n",
       "      <td>102.538835</td>\n",
       "      <td>65.0</td>\n",
       "    </tr>\n",
       "  </tbody>\n",
       "</table></div>"
      ],
      "text/plain": [
       "    Year  GDP per Capita  Debt to GDP  Corruption Ind\n",
       "40  2000      869.696285    96.900000             NaN\n",
       "41  2001      832.803572   103.300000             NaN\n",
       "42  2002      867.491487   105.600000             NaN\n",
       "43  2003      982.195697   102.511978            66.0\n",
       "44  2004     1065.784437   102.538835            65.0"
      ]
     },
     "execution_count": 61,
     "metadata": {},
     "output_type": "execute_result"
    }
   ],
   "source": [
    "final_df.head()"
   ]
  },
  {
   "cell_type": "markdown",
   "id": "33491cfb",
   "metadata": {},
   "source": [
    "#### Check for Null Records"
   ]
  },
  {
   "cell_type": "code",
   "execution_count": 62,
   "id": "6a015bf6",
   "metadata": {},
   "outputs": [
    {
     "data": {
      "text/plain": [
       "Year              0\n",
       "GDP per Capita    0\n",
       "Debt to GDP       0\n",
       "Corruption Ind    3\n",
       "dtype: int64"
      ]
     },
     "execution_count": 62,
     "metadata": {},
     "output_type": "execute_result"
    }
   ],
   "source": [
    "final_df.isna().sum()"
   ]
  },
  {
   "cell_type": "markdown",
   "id": "5575e941",
   "metadata": {},
   "source": [
    "Get records with null corruption index"
   ]
  },
  {
   "cell_type": "code",
   "execution_count": 63,
   "id": "47cda933",
   "metadata": {},
   "outputs": [
    {
     "data": {
      "text/html": [
       "<div><div id=9204de00-db5c-4641-abbb-0b9012e96c34 style=\"display:none; background-color:#9D6CFF; color:white; width:200px; height:30px; padding-left:5px; border-radius:4px; flex-direction:row; justify-content:space-around; align-items:center;\" onmouseover=\"this.style.backgroundColor='#BA9BF8'\" onmouseout=\"this.style.backgroundColor='#9D6CFF'\" onclick=\"window.commands?.execute('create-mitosheet-from-dataframe-output');\">See Full Dataframe in Mito</div> <script> if (window.commands?.hasCommand('create-mitosheet-from-dataframe-output')) document.getElementById('9204de00-db5c-4641-abbb-0b9012e96c34').style.display = 'flex' </script> <table border=\"1\" class=\"dataframe\">\n",
       "  <thead>\n",
       "    <tr style=\"text-align: right;\">\n",
       "      <th></th>\n",
       "      <th>Year</th>\n",
       "      <th>GDP per Capita</th>\n",
       "      <th>Debt to GDP</th>\n",
       "      <th>Corruption Ind</th>\n",
       "    </tr>\n",
       "  </thead>\n",
       "  <tbody>\n",
       "    <tr>\n",
       "      <th>40</th>\n",
       "      <td>2000</td>\n",
       "      <td>869.696285</td>\n",
       "      <td>96.9</td>\n",
       "      <td>NaN</td>\n",
       "    </tr>\n",
       "    <tr>\n",
       "      <th>41</th>\n",
       "      <td>2001</td>\n",
       "      <td>832.803572</td>\n",
       "      <td>103.3</td>\n",
       "      <td>NaN</td>\n",
       "    </tr>\n",
       "    <tr>\n",
       "      <th>42</th>\n",
       "      <td>2002</td>\n",
       "      <td>867.491487</td>\n",
       "      <td>105.6</td>\n",
       "      <td>NaN</td>\n",
       "    </tr>\n",
       "  </tbody>\n",
       "</table></div>"
      ],
      "text/plain": [
       "    Year  GDP per Capita  Debt to GDP  Corruption Ind\n",
       "40  2000      869.696285         96.9             NaN\n",
       "41  2001      832.803572        103.3             NaN\n",
       "42  2002      867.491487        105.6             NaN"
      ]
     },
     "execution_count": 63,
     "metadata": {},
     "output_type": "execute_result"
    }
   ],
   "source": [
    "final_df[final_df['Corruption Ind'].isna()]"
   ]
  },
  {
   "cell_type": "code",
   "execution_count": 64,
   "id": "52266fa2",
   "metadata": {},
   "outputs": [
    {
     "data": {
      "text/html": [
       "<div><div id=c2aa9b40-8df5-4fde-ad22-1a36b0115605 style=\"display:none; background-color:#9D6CFF; color:white; width:200px; height:30px; padding-left:5px; border-radius:4px; flex-direction:row; justify-content:space-around; align-items:center;\" onmouseover=\"this.style.backgroundColor='#BA9BF8'\" onmouseout=\"this.style.backgroundColor='#9D6CFF'\" onclick=\"window.commands?.execute('create-mitosheet-from-dataframe-output');\">See Full Dataframe in Mito</div> <script> if (window.commands?.hasCommand('create-mitosheet-from-dataframe-output')) document.getElementById('c2aa9b40-8df5-4fde-ad22-1a36b0115605').style.display = 'flex' </script> <table border=\"1\" class=\"dataframe\">\n",
       "  <thead>\n",
       "    <tr style=\"text-align: right;\">\n",
       "      <th></th>\n",
       "      <th>Year</th>\n",
       "      <th>GDP per Capita</th>\n",
       "      <th>Debt to GDP</th>\n",
       "      <th>Corruption Ind</th>\n",
       "    </tr>\n",
       "  </thead>\n",
       "  <tbody>\n",
       "  </tbody>\n",
       "</table></div>"
      ],
      "text/plain": [
       "Empty DataFrame\n",
       "Columns: [Year, GDP per Capita, Debt to GDP, Corruption Ind]\n",
       "Index: []"
      ]
     },
     "execution_count": 64,
     "metadata": {},
     "output_type": "execute_result"
    }
   ],
   "source": [
    "final_df[final_df['Debt to GDP'].isna()]"
   ]
  },
  {
   "cell_type": "markdown",
   "id": "35b86d5c",
   "metadata": {},
   "source": [
    "fill missing corruption index values with first available observation"
   ]
  },
  {
   "cell_type": "code",
   "execution_count": 65,
   "id": "c2c2c716",
   "metadata": {},
   "outputs": [
    {
     "data": {
      "text/html": [
       "<div><div id=3a238742-5381-4397-92e0-7ab52aac4ebd style=\"display:none; background-color:#9D6CFF; color:white; width:200px; height:30px; padding-left:5px; border-radius:4px; flex-direction:row; justify-content:space-around; align-items:center;\" onmouseover=\"this.style.backgroundColor='#BA9BF8'\" onmouseout=\"this.style.backgroundColor='#9D6CFF'\" onclick=\"window.commands?.execute('create-mitosheet-from-dataframe-output');\">See Full Dataframe in Mito</div> <script> if (window.commands?.hasCommand('create-mitosheet-from-dataframe-output')) document.getElementById('3a238742-5381-4397-92e0-7ab52aac4ebd').style.display = 'flex' </script> <table border=\"1\" class=\"dataframe\">\n",
       "  <thead>\n",
       "    <tr style=\"text-align: right;\">\n",
       "      <th></th>\n",
       "      <th>Year</th>\n",
       "      <th>GDP per Capita</th>\n",
       "      <th>Debt to GDP</th>\n",
       "      <th>Corruption Ind</th>\n",
       "    </tr>\n",
       "  </thead>\n",
       "  <tbody>\n",
       "    <tr>\n",
       "      <th>40</th>\n",
       "      <td>2000</td>\n",
       "      <td>869.696285</td>\n",
       "      <td>96.900000</td>\n",
       "      <td>34.0</td>\n",
       "    </tr>\n",
       "    <tr>\n",
       "      <th>41</th>\n",
       "      <td>2001</td>\n",
       "      <td>832.803572</td>\n",
       "      <td>103.300000</td>\n",
       "      <td>34.0</td>\n",
       "    </tr>\n",
       "    <tr>\n",
       "      <th>42</th>\n",
       "      <td>2002</td>\n",
       "      <td>867.491487</td>\n",
       "      <td>105.600000</td>\n",
       "      <td>34.0</td>\n",
       "    </tr>\n",
       "    <tr>\n",
       "      <th>43</th>\n",
       "      <td>2003</td>\n",
       "      <td>982.195697</td>\n",
       "      <td>102.511978</td>\n",
       "      <td>34.0</td>\n",
       "    </tr>\n",
       "    <tr>\n",
       "      <th>44</th>\n",
       "      <td>2004</td>\n",
       "      <td>1065.784437</td>\n",
       "      <td>102.538835</td>\n",
       "      <td>35.0</td>\n",
       "    </tr>\n",
       "  </tbody>\n",
       "</table></div>"
      ],
      "text/plain": [
       "    Year  GDP per Capita  Debt to GDP  Corruption Ind\n",
       "40  2000      869.696285    96.900000            34.0\n",
       "41  2001      832.803572   103.300000            34.0\n",
       "42  2002      867.491487   105.600000            34.0\n",
       "43  2003      982.195697   102.511978            34.0\n",
       "44  2004     1065.784437   102.538835            35.0"
      ]
     },
     "execution_count": 65,
     "metadata": {},
     "output_type": "execute_result"
    }
   ],
   "source": [
    "final_df['Corruption Ind']=final_df['Corruption Ind'].fillna(66)\n",
    "final_df['Corruption Ind']=100-final_df['Corruption Ind']\n",
    "final_df.head()"
   ]
  },
  {
   "cell_type": "code",
   "execution_count": 66,
   "id": "7ef35441",
   "metadata": {},
   "outputs": [
    {
     "data": {
      "text/html": [
       "<div><div id=df355ba0-2519-4ddc-9d0b-4c677495b90c style=\"display:none; background-color:#9D6CFF; color:white; width:200px; height:30px; padding-left:5px; border-radius:4px; flex-direction:row; justify-content:space-around; align-items:center;\" onmouseover=\"this.style.backgroundColor='#BA9BF8'\" onmouseout=\"this.style.backgroundColor='#9D6CFF'\" onclick=\"window.commands?.execute('create-mitosheet-from-dataframe-output');\">See Full Dataframe in Mito</div> <script> if (window.commands?.hasCommand('create-mitosheet-from-dataframe-output')) document.getElementById('df355ba0-2519-4ddc-9d0b-4c677495b90c').style.display = 'flex' </script> <table border=\"1\" class=\"dataframe\">\n",
       "  <thead>\n",
       "    <tr style=\"text-align: right;\">\n",
       "      <th></th>\n",
       "      <th>Year</th>\n",
       "      <th>GDP per Capita</th>\n",
       "      <th>Debt to GDP</th>\n",
       "      <th>Corruption Ind</th>\n",
       "    </tr>\n",
       "  </thead>\n",
       "  <tbody>\n",
       "    <tr>\n",
       "      <th>40</th>\n",
       "      <td>2000</td>\n",
       "      <td>869.696285</td>\n",
       "      <td>96.900000</td>\n",
       "      <td>34.0</td>\n",
       "    </tr>\n",
       "    <tr>\n",
       "      <th>41</th>\n",
       "      <td>2001</td>\n",
       "      <td>832.803572</td>\n",
       "      <td>103.300000</td>\n",
       "      <td>34.0</td>\n",
       "    </tr>\n",
       "    <tr>\n",
       "      <th>42</th>\n",
       "      <td>2002</td>\n",
       "      <td>867.491487</td>\n",
       "      <td>105.600000</td>\n",
       "      <td>34.0</td>\n",
       "    </tr>\n",
       "    <tr>\n",
       "      <th>43</th>\n",
       "      <td>2003</td>\n",
       "      <td>982.195697</td>\n",
       "      <td>102.511978</td>\n",
       "      <td>34.0</td>\n",
       "    </tr>\n",
       "    <tr>\n",
       "      <th>44</th>\n",
       "      <td>2004</td>\n",
       "      <td>1065.784437</td>\n",
       "      <td>102.538835</td>\n",
       "      <td>35.0</td>\n",
       "    </tr>\n",
       "  </tbody>\n",
       "</table></div>"
      ],
      "text/plain": [
       "    Year  GDP per Capita  Debt to GDP  Corruption Ind\n",
       "40  2000      869.696285    96.900000            34.0\n",
       "41  2001      832.803572   103.300000            34.0\n",
       "42  2002      867.491487   105.600000            34.0\n",
       "43  2003      982.195697   102.511978            34.0\n",
       "44  2004     1065.784437   102.538835            35.0"
      ]
     },
     "execution_count": 66,
     "metadata": {},
     "output_type": "execute_result"
    }
   ],
   "source": [
    "final_df.head()"
   ]
  },
  {
   "cell_type": "markdown",
   "id": "f5277af9",
   "metadata": {},
   "source": [
    "### EDA"
   ]
  },
  {
   "cell_type": "markdown",
   "id": "773f8fb1",
   "metadata": {},
   "source": [
    "Plot GDP per capita"
   ]
  },
  {
   "cell_type": "code",
   "execution_count": 67,
   "id": "98fa4856",
   "metadata": {},
   "outputs": [
    {
     "data": {
      "text/plain": [
       "Text(0.5, 1.0, 'Time series of GDP per Capita')"
      ]
     },
     "execution_count": 67,
     "metadata": {},
     "output_type": "execute_result"
    },
    {
     "data": {
      "image/png": "[encoded data removed]",
      "text/plain": [
       "<Figure size 432x288 with 1 Axes>"
      ]
     },
     "metadata": {},
     "output_type": "display_data"
    }
   ],
   "source": [
    "import matplotlib.pyplot as plt\n",
    "import seaborn as sns\n",
    "sns.set_theme(style=\"dark\")\n",
    "\n",
    "p1=sns.lineplot(x='Year', y=\"GDP per Capita\",\n",
    "             data=final_df\n",
    "            \n",
    "            )\n",
    "p1.set(xlabel='Year', ylabel='GDP per Capita')\n",
    "p1.set_title('Time series of GDP per Capita')\n"
   ]
  },
  {
   "cell_type": "markdown",
   "id": "c5ed3efe",
   "metadata": {},
   "source": [
    "Plot corruption index"
   ]
  },
  {
   "cell_type": "code",
   "execution_count": 68,
   "id": "5dd13187",
   "metadata": {},
   "outputs": [
    {
     "data": {
      "text/plain": [
       "Text(0.5, 1.0, 'Time series of Corruption Ind')"
      ]
     },
     "execution_count": 68,
     "metadata": {},
     "output_type": "execute_result"
    },
    {
     "data": {
      "image/png": "[encoded data removed]",
      "text/plain": [
       "<Figure size 432x288 with 1 Axes>"
      ]
     },
     "metadata": {},
     "output_type": "display_data"
    }
   ],
   "source": [
    "import matplotlib.pyplot as plt\n",
    "import seaborn as sns\n",
    "sns.set_theme(style=\"dark\")\n",
    "\n",
    "p1=sns.lineplot(x='Year', y=\"Corruption Ind\",\n",
    "             data=final_df\n",
    "            \n",
    "            )\n",
    "p1.set(xlabel='Year', ylabel='Corruption Ind')\n",
    "p1.set_title('Time series of Corruption Ind')\n"
   ]
  },
  {
   "cell_type": "markdown",
   "id": "2ec00a6d",
   "metadata": {},
   "source": [
    "Plot debt to GDP percentage"
   ]
  },
  {
   "cell_type": "code",
   "execution_count": 69,
   "id": "8a224f7b",
   "metadata": {},
   "outputs": [
    {
     "data": {
      "text/plain": [
       "Text(0.5, 1.0, 'Time series of Debt to GDP')"
      ]
     },
     "execution_count": 69,
     "metadata": {},
     "output_type": "execute_result"
    },
    {
     "data": {
      "image/png": "[encoded data removed]",
      "text/plain": [
       "<Figure size 432x288 with 1 Axes>"
      ]
     },
     "metadata": {},
     "output_type": "display_data"
    }
   ],
   "source": [
    "import matplotlib.pyplot as plt\n",
    "import seaborn as sns\n",
    "sns.set_theme(style=\"dark\")\n",
    "\n",
    "p1=sns.lineplot(x='Year', y=\"Debt to GDP\",\n",
    "             data=final_df\n",
    "            \n",
    "            )\n",
    "p1.set(xlabel='Year', ylabel='Debt to GDP')\n",
    "p1.set_title('Time series of Debt to GDP')"
   ]
  },
  {
   "cell_type": "code",
   "execution_count": 70,
   "id": "af802936",
   "metadata": {},
   "outputs": [
    {
     "data": {
      "text/html": [
       "<div><div id=52f74bf6-44ea-4ac5-8e5b-db9b714020d5 style=\"display:none; background-color:#9D6CFF; color:white; width:200px; height:30px; padding-left:5px; border-radius:4px; flex-direction:row; justify-content:space-around; align-items:center;\" onmouseover=\"this.style.backgroundColor='#BA9BF8'\" onmouseout=\"this.style.backgroundColor='#9D6CFF'\" onclick=\"window.commands?.execute('create-mitosheet-from-dataframe-output');\">See Full Dataframe in Mito</div> <script> if (window.commands?.hasCommand('create-mitosheet-from-dataframe-output')) document.getElementById('52f74bf6-44ea-4ac5-8e5b-db9b714020d5').style.display = 'flex' </script> <table border=\"1\" class=\"dataframe\">\n",
       "  <thead>\n",
       "    <tr style=\"text-align: right;\">\n",
       "      <th></th>\n",
       "      <th>Year</th>\n",
       "      <th>GDP per Capita</th>\n",
       "      <th>Debt to GDP</th>\n",
       "      <th>Corruption Ind</th>\n",
       "    </tr>\n",
       "  </thead>\n",
       "  <tbody>\n",
       "    <tr>\n",
       "      <th>43</th>\n",
       "      <td>2003</td>\n",
       "      <td>982.195697</td>\n",
       "      <td>102.511978</td>\n",
       "      <td>34.0</td>\n",
       "    </tr>\n",
       "    <tr>\n",
       "      <th>44</th>\n",
       "      <td>2004</td>\n",
       "      <td>1065.784437</td>\n",
       "      <td>102.538835</td>\n",
       "      <td>35.0</td>\n",
       "    </tr>\n",
       "    <tr>\n",
       "      <th>45</th>\n",
       "      <td>2005</td>\n",
       "      <td>1248.698185</td>\n",
       "      <td>90.784179</td>\n",
       "      <td>32.0</td>\n",
       "    </tr>\n",
       "    <tr>\n",
       "      <th>46</th>\n",
       "      <td>2006</td>\n",
       "      <td>1435.816813</td>\n",
       "      <td>88.034253</td>\n",
       "      <td>31.0</td>\n",
       "    </tr>\n",
       "    <tr>\n",
       "      <th>47</th>\n",
       "      <td>2007</td>\n",
       "      <td>1630.388906</td>\n",
       "      <td>85.117283</td>\n",
       "      <td>32.0</td>\n",
       "    </tr>\n",
       "    <tr>\n",
       "      <th>...</th>\n",
       "      <td>...</td>\n",
       "      <td>...</td>\n",
       "      <td>...</td>\n",
       "      <td>...</td>\n",
       "    </tr>\n",
       "    <tr>\n",
       "      <th>57</th>\n",
       "      <td>2017</td>\n",
       "      <td>4077.043841</td>\n",
       "      <td>77.900000</td>\n",
       "      <td>38.0</td>\n",
       "    </tr>\n",
       "    <tr>\n",
       "      <th>58</th>\n",
       "      <td>2018</td>\n",
       "      <td>4059.208230</td>\n",
       "      <td>83.700000</td>\n",
       "      <td>38.0</td>\n",
       "    </tr>\n",
       "    <tr>\n",
       "      <th>59</th>\n",
       "      <td>2019</td>\n",
       "      <td>3848.212376</td>\n",
       "      <td>86.800000</td>\n",
       "      <td>38.0</td>\n",
       "    </tr>\n",
       "    <tr>\n",
       "      <th>60</th>\n",
       "      <td>2020</td>\n",
       "      <td>3694.040948</td>\n",
       "      <td>101.000000</td>\n",
       "      <td>38.0</td>\n",
       "    </tr>\n",
       "    <tr>\n",
       "      <th>61</th>\n",
       "      <td>2021</td>\n",
       "      <td>3814.715219</td>\n",
       "      <td>106.700000</td>\n",
       "      <td>37.0</td>\n",
       "    </tr>\n",
       "  </tbody>\n",
       "</table></div>"
      ],
      "text/plain": [
       "    Year  GDP per Capita  Debt to GDP  Corruption Ind\n",
       "43  2003      982.195697   102.511978            34.0\n",
       "44  2004     1065.784437   102.538835            35.0\n",
       "45  2005     1248.698185    90.784179            32.0\n",
       "46  2006     1435.816813    88.034253            31.0\n",
       "47  2007     1630.388906    85.117283            32.0\n",
       "48  2008     2037.322103    81.469464            32.0\n",
       "49  2009     2090.401826    86.200000            31.0\n",
       "50  2010     2799.648738    71.638289            32.0\n",
       "51  2011     3200.861132    71.168951            33.0\n",
       "52  2012     3350.521876    69.659036            40.0\n",
       "53  2013     3610.289363    71.821541            37.0\n",
       "54  2014     3819.253530    72.258979            38.0\n",
       "55  2015     3843.780672    78.526962            37.0\n",
       "56  2016     3886.291502    79.016367            36.0\n",
       "57  2017     4077.043841    77.900000            38.0\n",
       "58  2018     4059.208230    83.700000            38.0\n",
       "59  2019     3848.212376    86.800000            38.0\n",
       "60  2020     3694.040948   101.000000            38.0\n",
       "61  2021     3814.715219   106.700000            37.0"
      ]
     },
     "execution_count": 70,
     "metadata": {},
     "output_type": "execute_result"
    }
   ],
   "source": [
    "final_df[(final_df['Year']>=2003) & (final_df['Year']<2022)]"
   ]
  },
  {
   "cell_type": "markdown",
   "id": "17e628e9",
   "metadata": {},
   "source": [
    "#### Test Granger Causality"
   ]
  },
  {
   "cell_type": "code",
   "execution_count": 71,
   "id": "755ed6f0",
   "metadata": {},
   "outputs": [
    {
     "name": "stdout",
     "output_type": "stream",
     "text": [
      "\n",
      "Granger Causality\n",
      "number of lags (no zero) 1\n",
      "ssr based F test:         F=8.8364  , p=0.0095  , df_denom=15, df_num=1\n",
      "ssr based chi2 test:   chi2=10.6037 , p=0.0011  , df=1\n",
      "likelihood ratio test: chi2=8.3370  , p=0.0039  , df=1\n",
      "parameter F test:         F=8.8364  , p=0.0095  , df_denom=15, df_num=1\n"
     ]
    },
    {
     "data": {
      "text/plain": [
       "{1: ({'ssr_ftest': (8.836429970982504, 0.0094870481390128, 15.0, 1),\n",
       "   'ssr_chi2test': (10.603715965179006, 0.0011286060740207553, 1),\n",
       "   'lrtest': (8.336967846156597, 0.0038846377484535993, 1),\n",
       "   'params_ftest': (8.83642997098104, 0.00948704813901755, 15.0, 1.0)},\n",
       "  [<statsmodels.regression.linear_model.RegressionResultsWrapper at 0x1a1bb69c460>,\n",
       "   <statsmodels.regression.linear_model.RegressionResultsWrapper at 0x1a1bb3cae50>,\n",
       "   array([[0., 1., 0.]])])}"
      ]
     },
     "execution_count": 71,
     "metadata": {},
     "output_type": "execute_result"
    }
   ],
   "source": [
    "df2 = final_df[(final_df['Year']>=2003) & (final_df['Year']<2022)]\n",
    "from statsmodels.tsa.stattools import grangercausalitytests\n",
    "grangercausalitytests(df2[['Corruption Ind','GDP per Capita']], maxlag=[1])"
   ]
  },
  {
   "cell_type": "code",
   "execution_count": 72,
   "id": "aa2f74c5",
   "metadata": {},
   "outputs": [
    {
     "name": "stdout",
     "output_type": "stream",
     "text": [
      "\n",
      "Granger Causality\n",
      "number of lags (no zero) 1\n",
      "ssr based F test:         F=2.6430  , p=0.1248  , df_denom=15, df_num=1\n",
      "ssr based chi2 test:   chi2=3.1716  , p=0.0749  , df=1\n",
      "likelihood ratio test: chi2=2.9212  , p=0.0874  , df=1\n",
      "parameter F test:         F=2.6430  , p=0.1248  , df_denom=15, df_num=1\n"
     ]
    },
    {
     "data": {
      "text/plain": [
       "{1: ({'ssr_ftest': (2.6429946285265546, 0.12482790634233486, 15.0, 1),\n",
       "   'ssr_chi2test': (3.171593554231866, 0.07492930498387802, 1),\n",
       "   'lrtest': (2.921194774622748, 0.08742311084323588, 1),\n",
       "   'params_ftest': (2.6429946285265387, 0.12482790634233594, 15.0, 1.0)},\n",
       "  [<statsmodels.regression.linear_model.RegressionResultsWrapper at 0x1a1bb6f6eb0>,\n",
       "   <statsmodels.regression.linear_model.RegressionResultsWrapper at 0x1a1bb721e20>,\n",
       "   array([[0., 1., 0.]])])}"
      ]
     },
     "execution_count": 72,
     "metadata": {},
     "output_type": "execute_result"
    }
   ],
   "source": [
    "df2 = final_df[(final_df['Year']>=2003) & (final_df['Year']<2022)]\n",
    "from statsmodels.tsa.stattools import grangercausalitytests\n",
    "grangercausalitytests(df2[['Corruption Ind','Debt to GDP']], maxlag=[1])"
   ]
  },
  {
   "cell_type": "code",
   "execution_count": 73,
   "id": "dc0f9a9c",
   "metadata": {},
   "outputs": [
    {
     "name": "stdout",
     "output_type": "stream",
     "text": [
      "\n",
      "Granger Causality\n",
      "number of lags (no zero) 1\n",
      "ssr based F test:         F=8.0424  , p=0.0125  , df_denom=15, df_num=1\n",
      "ssr based chi2 test:   chi2=9.6509  , p=0.0019  , df=1\n",
      "likelihood ratio test: chi2=7.7271  , p=0.0054  , df=1\n",
      "parameter F test:         F=8.0424  , p=0.0125  , df_denom=15, df_num=1\n"
     ]
    },
    {
     "data": {
      "text/plain": [
       "{1: ({'ssr_ftest': (8.04239171973702, 0.012518115763062467, 15.0, 1),\n",
       "   'ssr_chi2test': (9.650870063684426, 0.0018926191956419834, 1),\n",
       "   'lrtest': (7.727137859126358, 0.005439691101598058, 1),\n",
       "   'params_ftest': (8.04239171973705, 0.01251811576306231, 15.0, 1.0)},\n",
       "  [<statsmodels.regression.linear_model.RegressionResultsWrapper at 0x1a1b9be83d0>,\n",
       "   <statsmodels.regression.linear_model.RegressionResultsWrapper at 0x1a1fe9d01f0>,\n",
       "   array([[0., 1., 0.]])])}"
      ]
     },
     "execution_count": 73,
     "metadata": {},
     "output_type": "execute_result"
    }
   ],
   "source": [
    "df2 = final_df[(final_df['Year']>=2003) & (final_df['Year']<2022)]\n",
    "from statsmodels.tsa.stattools import grangercausalitytests\n",
    "grangercausalitytests(df2[['Debt to GDP', 'GDP per Capita']], maxlag=[1])"
   ]
  },
  {
   "cell_type": "markdown",
   "id": "c6a17061",
   "metadata": {},
   "source": [
    "Plots suggests that time series are non-stationary. Run tests for stationarity to confirm this"
   ]
  },
  {
   "cell_type": "markdown",
   "id": "3eebb678",
   "metadata": {},
   "source": [
    "get differenced time series before apply hypothesis tests"
   ]
  },
  {
   "cell_type": "code",
   "execution_count": 74,
   "id": "72bf47a3",
   "metadata": {},
   "outputs": [
    {
     "data": {
      "text/html": [
       "<div><div id=2ac99ffc-a385-43a3-a617-a6a49a906fd2 style=\"display:none; background-color:#9D6CFF; color:white; width:200px; height:30px; padding-left:5px; border-radius:4px; flex-direction:row; justify-content:space-around; align-items:center;\" onmouseover=\"this.style.backgroundColor='#BA9BF8'\" onmouseout=\"this.style.backgroundColor='#9D6CFF'\" onclick=\"window.commands?.execute('create-mitosheet-from-dataframe-output');\">See Full Dataframe in Mito</div> <script> if (window.commands?.hasCommand('create-mitosheet-from-dataframe-output')) document.getElementById('2ac99ffc-a385-43a3-a617-a6a49a906fd2').style.display = 'flex' </script> <table border=\"1\" class=\"dataframe\">\n",
       "  <thead>\n",
       "    <tr style=\"text-align: right;\">\n",
       "      <th></th>\n",
       "      <th>Year</th>\n",
       "      <th>GDP per Capita</th>\n",
       "      <th>Debt to GDP</th>\n",
       "      <th>Corruption Ind</th>\n",
       "    </tr>\n",
       "  </thead>\n",
       "  <tbody>\n",
       "    <tr>\n",
       "      <th>0</th>\n",
       "      <td>2000</td>\n",
       "      <td>NaN</td>\n",
       "      <td>NaN</td>\n",
       "      <td>NaN</td>\n",
       "    </tr>\n",
       "    <tr>\n",
       "      <th>1</th>\n",
       "      <td>2001</td>\n",
       "      <td>-36.892713</td>\n",
       "      <td>6.400000</td>\n",
       "      <td>0.0</td>\n",
       "    </tr>\n",
       "    <tr>\n",
       "      <th>2</th>\n",
       "      <td>2002</td>\n",
       "      <td>34.687914</td>\n",
       "      <td>2.300000</td>\n",
       "      <td>0.0</td>\n",
       "    </tr>\n",
       "    <tr>\n",
       "      <th>3</th>\n",
       "      <td>2003</td>\n",
       "      <td>114.704210</td>\n",
       "      <td>-3.088022</td>\n",
       "      <td>0.0</td>\n",
       "    </tr>\n",
       "    <tr>\n",
       "      <th>4</th>\n",
       "      <td>2004</td>\n",
       "      <td>83.588740</td>\n",
       "      <td>0.026857</td>\n",
       "      <td>1.0</td>\n",
       "    </tr>\n",
       "  </tbody>\n",
       "</table></div>"
      ],
      "text/plain": [
       "   Year  GDP per Capita  Debt to GDP  Corruption Ind\n",
       "0  2000             NaN          NaN             NaN\n",
       "1  2001      -36.892713     6.400000             0.0\n",
       "2  2002       34.687914     2.300000             0.0\n",
       "3  2003      114.704210    -3.088022             0.0\n",
       "4  2004       83.588740     0.026857             1.0"
      ]
     },
     "execution_count": 74,
     "metadata": {},
     "output_type": "execute_result"
    }
   ],
   "source": [
    "final_df = final_df.set_index('Year')\n",
    "final_df_transformed = final_df.diff()\n",
    "final_df_transformed=final_df_transformed.reset_index()\n",
    "final_df_transformed.head()"
   ]
  },
  {
   "cell_type": "code",
   "execution_count": 75,
   "id": "a2f16885",
   "metadata": {},
   "outputs": [
    {
     "data": {
      "text/html": [
       "<div><div id=70662447-9acd-4b34-81d0-5ef1cf4b260c style=\"display:none; background-color:#9D6CFF; color:white; width:200px; height:30px; padding-left:5px; border-radius:4px; flex-direction:row; justify-content:space-around; align-items:center;\" onmouseover=\"this.style.backgroundColor='#BA9BF8'\" onmouseout=\"this.style.backgroundColor='#9D6CFF'\" onclick=\"window.commands?.execute('create-mitosheet-from-dataframe-output');\">See Full Dataframe in Mito</div> <script> if (window.commands?.hasCommand('create-mitosheet-from-dataframe-output')) document.getElementById('70662447-9acd-4b34-81d0-5ef1cf4b260c').style.display = 'flex' </script> <table border=\"1\" class=\"dataframe\">\n",
       "  <thead>\n",
       "    <tr style=\"text-align: right;\">\n",
       "      <th></th>\n",
       "      <th>GDP per Capita</th>\n",
       "      <th>Debt to GDP</th>\n",
       "      <th>Corruption Ind</th>\n",
       "    </tr>\n",
       "    <tr>\n",
       "      <th>Year</th>\n",
       "      <th></th>\n",
       "      <th></th>\n",
       "      <th></th>\n",
       "    </tr>\n",
       "  </thead>\n",
       "  <tbody>\n",
       "    <tr>\n",
       "      <th>2000</th>\n",
       "      <td>869.696285</td>\n",
       "      <td>96.900000</td>\n",
       "      <td>34.0</td>\n",
       "    </tr>\n",
       "    <tr>\n",
       "      <th>2001</th>\n",
       "      <td>832.803572</td>\n",
       "      <td>103.300000</td>\n",
       "      <td>34.0</td>\n",
       "    </tr>\n",
       "    <tr>\n",
       "      <th>2002</th>\n",
       "      <td>867.491487</td>\n",
       "      <td>105.600000</td>\n",
       "      <td>34.0</td>\n",
       "    </tr>\n",
       "    <tr>\n",
       "      <th>2003</th>\n",
       "      <td>982.195697</td>\n",
       "      <td>102.511978</td>\n",
       "      <td>34.0</td>\n",
       "    </tr>\n",
       "    <tr>\n",
       "      <th>2004</th>\n",
       "      <td>1065.784437</td>\n",
       "      <td>102.538835</td>\n",
       "      <td>35.0</td>\n",
       "    </tr>\n",
       "    <tr>\n",
       "      <th>...</th>\n",
       "      <td>...</td>\n",
       "      <td>...</td>\n",
       "      <td>...</td>\n",
       "    </tr>\n",
       "    <tr>\n",
       "      <th>2017</th>\n",
       "      <td>4077.043841</td>\n",
       "      <td>77.900000</td>\n",
       "      <td>38.0</td>\n",
       "    </tr>\n",
       "    <tr>\n",
       "      <th>2018</th>\n",
       "      <td>4059.208230</td>\n",
       "      <td>83.700000</td>\n",
       "      <td>38.0</td>\n",
       "    </tr>\n",
       "    <tr>\n",
       "      <th>2019</th>\n",
       "      <td>3848.212376</td>\n",
       "      <td>86.800000</td>\n",
       "      <td>38.0</td>\n",
       "    </tr>\n",
       "    <tr>\n",
       "      <th>2020</th>\n",
       "      <td>3694.040948</td>\n",
       "      <td>101.000000</td>\n",
       "      <td>38.0</td>\n",
       "    </tr>\n",
       "    <tr>\n",
       "      <th>2021</th>\n",
       "      <td>3814.715219</td>\n",
       "      <td>106.700000</td>\n",
       "      <td>37.0</td>\n",
       "    </tr>\n",
       "  </tbody>\n",
       "</table></div>"
      ],
      "text/plain": [
       "      GDP per Capita  Debt to GDP  Corruption Ind\n",
       "Year                                             \n",
       "2000      869.696285    96.900000            34.0\n",
       "2001      832.803572   103.300000            34.0\n",
       "2002      867.491487   105.600000            34.0\n",
       "2003      982.195697   102.511978            34.0\n",
       "2004     1065.784437   102.538835            35.0\n",
       "2005     1248.698185    90.784179            32.0\n",
       "2006     1435.816813    88.034253            31.0\n",
       "2007     1630.388906    85.117283            32.0\n",
       "2008     2037.322103    81.469464            32.0\n",
       "2009     2090.401826    86.200000            31.0\n",
       "2010     2799.648738    71.638289            32.0\n",
       "2011     3200.861132    71.168951            33.0\n",
       "2012     3350.521876    69.659036            40.0\n",
       "2013     3610.289363    71.821541            37.0\n",
       "2014     3819.253530    72.258979            38.0\n",
       "2015     3843.780672    78.526962            37.0\n",
       "2016     3886.291502    79.016367            36.0\n",
       "2017     4077.043841    77.900000            38.0\n",
       "2018     4059.208230    83.700000            38.0\n",
       "2019     3848.212376    86.800000            38.0\n",
       "2020     3694.040948   101.000000            38.0\n",
       "2021     3814.715219   106.700000            37.0"
      ]
     },
     "execution_count": 75,
     "metadata": {},
     "output_type": "execute_result"
    }
   ],
   "source": [
    "final_df"
   ]
  },
  {
   "cell_type": "markdown",
   "id": "fcf04285",
   "metadata": {},
   "source": [
    "#### Split train test set"
   ]
  },
  {
   "cell_type": "code",
   "execution_count": 76,
   "id": "eaf20a8f",
   "metadata": {},
   "outputs": [],
   "source": [
    "test_df=final_df.iloc[-2:]"
   ]
  },
  {
   "cell_type": "code",
   "execution_count": 77,
   "id": "90251545",
   "metadata": {},
   "outputs": [],
   "source": [
    "train_df=final_df_transformed.iloc[:-2]"
   ]
  },
  {
   "cell_type": "code",
   "execution_count": 78,
   "id": "632ce6f1",
   "metadata": {},
   "outputs": [],
   "source": [
    "train_df=train_df[train_df['Year']>=2004]"
   ]
  },
  {
   "cell_type": "code",
   "execution_count": 79,
   "id": "f7297fd7",
   "metadata": {},
   "outputs": [
    {
     "data": {
      "text/plain": [
       "(16, 4)"
      ]
     },
     "execution_count": 79,
     "metadata": {},
     "output_type": "execute_result"
    }
   ],
   "source": [
    "train_df.shape"
   ]
  },
  {
   "cell_type": "markdown",
   "id": "2f11ad98",
   "metadata": {},
   "source": [
    "#### Tests for stationarity"
   ]
  },
  {
   "cell_type": "markdown",
   "id": "e0610f58",
   "metadata": {},
   "source": [
    "#### ADF test \n",
    "H0 : Time series is non stationary\n",
    "H1 : Time series is stationary"
   ]
  },
  {
   "cell_type": "code",
   "execution_count": 80,
   "id": "52c6a3c2",
   "metadata": {},
   "outputs": [],
   "source": [
    "from statsmodels.tsa.stattools import adfuller\n",
    "\n",
    "def adf_test(df,alpha_lvl):\n",
    "    print(\"H0 : Time series is non stationary\")\n",
    "    print(\"H1 : Time series is stationary\")\n",
    "    result = adfuller(df.values)\n",
    "    print('ADF Statistics: %f' % result[0])\n",
    "    print('p-value: %f' % result[1])\n",
    "    if result[1]>alpha_lvl:\n",
    "        print(\"Decision : Do not reject H0\")\n",
    "    else :\n",
    "        print(\"Decision : Reject H0\")\n",
    "    print('Critical values:')\n",
    "    for key, value in result[4].items():\n",
    "        print('\\t%s: %.3f' % (key, value))"
   ]
  },
  {
   "cell_type": "code",
   "execution_count": 81,
   "id": "1d15a351",
   "metadata": {},
   "outputs": [
    {
     "name": "stdout",
     "output_type": "stream",
     "text": [
      "H0 : Time series is non stationary\n",
      "H1 : Time series is stationary\n",
      "ADF Statistics: 16.596881\n",
      "p-value: 1.000000\n",
      "Decision : Do not reject H0\n",
      "Critical values:\n",
      "\t1%: -4.473\n",
      "\t5%: -3.290\n",
      "\t10%: -2.772\n"
     ]
    }
   ],
   "source": [
    "adf_test(train_df['GDP per Capita'],0.05)"
   ]
  },
  {
   "cell_type": "code",
   "execution_count": 82,
   "id": "9f974eb5",
   "metadata": {},
   "outputs": [
    {
     "name": "stdout",
     "output_type": "stream",
     "text": [
      "H0 : Time series is non stationary\n",
      "H1 : Time series is stationary\n",
      "ADF Statistics: -0.286993\n",
      "p-value: 0.927326\n",
      "Decision : Do not reject H0\n",
      "Critical values:\n",
      "\t1%: -4.473\n",
      "\t5%: -3.290\n",
      "\t10%: -2.772\n"
     ]
    }
   ],
   "source": [
    "adf_test(train_df['Debt to GDP'],0.05)"
   ]
  },
  {
   "cell_type": "code",
   "execution_count": 83,
   "id": "f6f88eef",
   "metadata": {},
   "outputs": [
    {
     "name": "stdout",
     "output_type": "stream",
     "text": [
      "H0 : Time series is non stationary\n",
      "H1 : Time series is stationary\n",
      "ADF Statistics: -2.552362\n",
      "p-value: 0.103248\n",
      "Decision : Do not reject H0\n",
      "Critical values:\n",
      "\t1%: -4.473\n",
      "\t5%: -3.290\n",
      "\t10%: -2.772\n"
     ]
    }
   ],
   "source": [
    "adf_test(train_df['Corruption Ind'],0.05)"
   ]
  },
  {
   "cell_type": "markdown",
   "id": "77d81650",
   "metadata": {},
   "source": [
    "### Fit VAR models"
   ]
  },
  {
   "cell_type": "code",
   "execution_count": 85,
   "id": "723f2e29",
   "metadata": {},
   "outputs": [
    {
     "name": "stdout",
     "output_type": "stream",
     "text": [
      "Lag Order = 1\n",
      "AIC :  15.764334405265892\n",
      "BIC :  16.33077456614766\n",
      "\n",
      "\n",
      "Lag Order = 2\n",
      "AIC :  14.717878785953761\n",
      "BIC :  15.67646478037665\n",
      "\n",
      "\n",
      "Lag Order = 3\n",
      "AIC :  11.479954074813413\n",
      "BIC :  12.783683361263112\n",
      "\n",
      "\n"
     ]
    },
    {
     "name": "stderr",
     "output_type": "stream",
     "text": [
      "C:\\ProgramData\\Anaconda3\\lib\\site-packages\\statsmodels\\tsa\\base\\tsa_model.py:578: ValueWarning: An unsupported index was provided and will be ignored when e.g. forecasting.\n",
      "  warnings.warn('An unsupported index was provided and will be'\n"
     ]
    }
   ],
   "source": [
    "from statsmodels.tsa.api import VAR\n",
    "train_df=train_df.set_index('Year')\n",
    "model = VAR(train_df)\n",
    "for i in range(3):\n",
    "    result = model.fit(i+1)\n",
    "    print('Lag Order =', i+1)\n",
    "    print('AIC : ', result.aic)\n",
    "    print('BIC : ', result.bic)\n",
    "    print('\\n')"
   ]
  },
  {
   "cell_type": "code",
   "execution_count": 86,
   "id": "4f037ef1",
   "metadata": {},
   "outputs": [
    {
     "data": {
      "text/plain": [
       "  Summary of Regression Results   \n",
       "==================================\n",
       "Model:                         VAR\n",
       "Method:                        OLS\n",
       "Date:           Sat, 27, Aug, 2022\n",
       "Time:                     21:59:21\n",
       "--------------------------------------------------------------------\n",
       "No. of Equations:         3.00000    BIC:                    12.7837\n",
       "Nobs:                     13.0000    HQIC:                   11.2120\n",
       "Log likelihood:          -99.9583    FPE:                    431583.\n",
       "AIC:                      11.4800    Det(Omega_mle):         77931.1\n",
       "--------------------------------------------------------------------\n",
       "Results for equation GDP per Capita\n",
       "====================================================================================\n",
       "                       coefficient       std. error           t-stat            prob\n",
       "------------------------------------------------------------------------------------\n",
       "const                    76.397891       342.967664            0.223           0.824\n",
       "L1.GDP per Capita        -1.352150         2.026082           -0.667           0.505\n",
       "L1.Debt to GDP          -68.820599        89.896176           -0.766           0.444\n",
       "L1.Corruption Ind       -97.537560        55.308592           -1.764           0.078\n",
       "L2.GDP per Capita         1.403174         1.206720            1.163           0.245\n",
       "L2.Debt to GDP           15.296737        27.040015            0.566           0.572\n",
       "L2.Corruption Ind       -11.147172        70.411307           -0.158           0.874\n",
       "L3.GDP per Capita         0.453838         0.898415            0.505           0.613\n",
       "L3.Debt to GDP           -8.936442        24.134418           -0.370           0.711\n",
       "L3.Corruption Ind       -12.899682        37.469202           -0.344           0.731\n",
       "====================================================================================\n",
       "\n",
       "Results for equation Debt to GDP\n",
       "====================================================================================\n",
       "                       coefficient       std. error           t-stat            prob\n",
       "------------------------------------------------------------------------------------\n",
       "const                    -0.802356         6.947193           -0.115           0.908\n",
       "L1.GDP per Capita         0.050654         0.041041            1.234           0.217\n",
       "L1.Debt to GDP            2.079100         1.820947            1.142           0.254\n",
       "L1.Corruption Ind         2.765766         1.120337            2.469           0.014\n",
       "L2.GDP per Capita        -0.041298         0.024443           -1.690           0.091\n",
       "L2.Debt to GDP           -0.346665         0.547726           -0.633           0.527\n",
       "L2.Corruption Ind         0.014734         1.426260            0.010           0.992\n",
       "L3.GDP per Capita        -0.006723         0.018198           -0.369           0.712\n",
       "L3.Debt to GDP            0.034257         0.488870            0.070           0.944\n",
       "L3.Corruption Ind         0.535386         0.758980            0.705           0.481\n",
       "====================================================================================\n",
       "\n",
       "Results for equation Corruption Ind\n",
       "====================================================================================\n",
       "                       coefficient       std. error           t-stat            prob\n",
       "------------------------------------------------------------------------------------\n",
       "const                     2.794690         1.173535            2.381           0.017\n",
       "L1.GDP per Capita        -0.026647         0.006933           -3.844           0.000\n",
       "L1.Debt to GDP           -1.385351         0.307598           -4.504           0.000\n",
       "L1.Corruption Ind        -0.695917         0.189250           -3.677           0.000\n",
       "L2.GDP per Capita         0.022386         0.004129            5.421           0.000\n",
       "L2.Debt to GDP            0.215970         0.092523            2.334           0.020\n",
       "L2.Corruption Ind         0.739028         0.240927            3.067           0.002\n",
       "L3.GDP per Capita        -0.006015         0.003074           -1.957           0.050\n",
       "L3.Debt to GDP            0.293954         0.082581            3.560           0.000\n",
       "L3.Corruption Ind        -0.003843         0.128209           -0.030           0.976\n",
       "====================================================================================\n",
       "\n",
       "Correlation matrix of residuals\n",
       "                  GDP per Capita  Debt to GDP  Corruption Ind\n",
       "GDP per Capita          1.000000    -0.929494       -0.185123\n",
       "Debt to GDP            -0.929494     1.000000        0.477647\n",
       "Corruption Ind         -0.185123     0.477647        1.000000\n",
       "\n"
      ]
     },
     "execution_count": 86,
     "metadata": {},
     "output_type": "execute_result"
    }
   ],
   "source": [
    "results = model.fit(maxlags=3, ic='aic')\n",
    "results.summary()"
   ]
  },
  {
   "cell_type": "code",
   "execution_count": 87,
   "id": "18de13cd",
   "metadata": {},
   "outputs": [
    {
     "data": {
      "text/html": [
       "<div><div id=beeaa643-1408-4730-84ac-553b280d6a5b style=\"display:none; background-color:#9D6CFF; color:white; width:200px; height:30px; padding-left:5px; border-radius:4px; flex-direction:row; justify-content:space-around; align-items:center;\" onmouseover=\"this.style.backgroundColor='#BA9BF8'\" onmouseout=\"this.style.backgroundColor='#9D6CFF'\" onclick=\"window.commands?.execute('create-mitosheet-from-dataframe-output');\">See Full Dataframe in Mito</div> <script> if (window.commands?.hasCommand('create-mitosheet-from-dataframe-output')) document.getElementById('beeaa643-1408-4730-84ac-553b280d6a5b').style.display = 'flex' </script> <table border=\"1\" class=\"dataframe\">\n",
       "  <thead>\n",
       "    <tr style=\"text-align: right;\">\n",
       "      <th></th>\n",
       "      <th>GDP per Capita</th>\n",
       "      <th>Debt to GDP</th>\n",
       "      <th>Corruption Ind</th>\n",
       "    </tr>\n",
       "    <tr>\n",
       "      <th>Year</th>\n",
       "      <th></th>\n",
       "      <th></th>\n",
       "      <th></th>\n",
       "    </tr>\n",
       "  </thead>\n",
       "  <tbody>\n",
       "    <tr>\n",
       "      <th>2020</th>\n",
       "      <td>3694.040948</td>\n",
       "      <td>101.0</td>\n",
       "      <td>38.0</td>\n",
       "    </tr>\n",
       "    <tr>\n",
       "      <th>2021</th>\n",
       "      <td>3814.715219</td>\n",
       "      <td>106.7</td>\n",
       "      <td>37.0</td>\n",
       "    </tr>\n",
       "  </tbody>\n",
       "</table></div>"
      ],
      "text/plain": [
       "      GDP per Capita  Debt to GDP  Corruption Ind\n",
       "Year                                             \n",
       "2020     3694.040948        101.0            38.0\n",
       "2021     3814.715219        106.7            37.0"
      ]
     },
     "execution_count": 87,
     "metadata": {},
     "output_type": "execute_result"
    }
   ],
   "source": [
    "final_df.iloc[-2:]"
   ]
  },
  {
   "cell_type": "markdown",
   "id": "7af84e16",
   "metadata": {},
   "source": [
    "#### Get predictions using trained model and perform inverse transformation"
   ]
  },
  {
   "cell_type": "code",
   "execution_count": 88,
   "id": "e232e26c",
   "metadata": {},
   "outputs": [],
   "source": [
    "lag_order = results.k_ar\n",
    "\n",
    "df_input = final_df_transformed[['GDP per Capita','Debt to GDP','Corruption Ind']].values[-3:]\n",
    "df_forecast = results.forecast(y=df_input, steps=3)\n",
    "df_forecast = (pd.DataFrame(df_forecast, \n",
    "                            #index=final_df_transformed.iloc[-5:].index, \n",
    "                            index =[2020,2021,2022],\n",
    "                            columns=train_df.columns + '_pred'))\n",
    "\n",
    "def invert_transformation(df, pred):\n",
    "    forecast = df_forecast.copy()\n",
    "    columns = df.columns\n",
    "    for col in columns:\n",
    "        forecast[str(col)+'_pred'] = df[col].iloc[-1] + forecast[str(col)+'_pred'].cumsum()\n",
    "    return forecast\n",
    "output = invert_transformation(final_df, df_forecast)\n"
   ]
  },
  {
   "cell_type": "code",
   "execution_count": 89,
   "id": "d7841633",
   "metadata": {},
   "outputs": [
    {
     "data": {
      "text/html": [
       "<div><div id=56345de3-7b33-477a-acf3-f8f76b057fd6 style=\"display:none; background-color:#9D6CFF; color:white; width:200px; height:30px; padding-left:5px; border-radius:4px; flex-direction:row; justify-content:space-around; align-items:center;\" onmouseover=\"this.style.backgroundColor='#BA9BF8'\" onmouseout=\"this.style.backgroundColor='#9D6CFF'\" onclick=\"window.commands?.execute('create-mitosheet-from-dataframe-output');\">See Full Dataframe in Mito</div> <script> if (window.commands?.hasCommand('create-mitosheet-from-dataframe-output')) document.getElementById('56345de3-7b33-477a-acf3-f8f76b057fd6').style.display = 'flex' </script> <table border=\"1\" class=\"dataframe\">\n",
       "  <thead>\n",
       "    <tr style=\"text-align: right;\">\n",
       "      <th></th>\n",
       "      <th>GDP per Capita_pred</th>\n",
       "      <th>Debt to GDP_pred</th>\n",
       "      <th>Corruption Ind_pred</th>\n",
       "    </tr>\n",
       "  </thead>\n",
       "  <tbody>\n",
       "    <tr>\n",
       "      <th>2020</th>\n",
       "      <td>3310.626896</td>\n",
       "      <td>124.064448</td>\n",
       "      <td>31.174605</td>\n",
       "    </tr>\n",
       "    <tr>\n",
       "      <th>2021</th>\n",
       "      <td>3512.590449</td>\n",
       "      <td>112.267363</td>\n",
       "      <td>35.694561</td>\n",
       "    </tr>\n",
       "    <tr>\n",
       "      <th>2022</th>\n",
       "      <td>3326.880938</td>\n",
       "      <td>123.230231</td>\n",
       "      <td>35.419453</td>\n",
       "    </tr>\n",
       "  </tbody>\n",
       "</table></div>"
      ],
      "text/plain": [
       "      GDP per Capita_pred  Debt to GDP_pred  Corruption Ind_pred\n",
       "2020          3310.626896        124.064448            31.174605\n",
       "2021          3512.590449        112.267363            35.694561\n",
       "2022          3326.880938        123.230231            35.419453"
      ]
     },
     "execution_count": 89,
     "metadata": {},
     "output_type": "execute_result"
    }
   ],
   "source": [
    "output"
   ]
  },
  {
   "cell_type": "code",
   "execution_count": 90,
   "id": "834c9e3a",
   "metadata": {},
   "outputs": [
    {
     "data": {
      "text/plain": [
       "2020    31.174605\n",
       "2021    35.694561\n",
       "Name: Corruption Ind_pred, dtype: float64"
      ]
     },
     "execution_count": 90,
     "metadata": {},
     "output_type": "execute_result"
    }
   ],
   "source": [
    "output['Corruption Ind_pred'].iloc[:-1]"
   ]
  },
  {
   "cell_type": "code",
   "execution_count": 96,
   "id": "9064b2af",
   "metadata": {},
   "outputs": [
    {
     "data": {
      "text/html": [
       "<div><div id=70b4dcd3-81f3-422a-81ff-3748b2e74327 style=\"display:none; background-color:#9D6CFF; color:white; width:200px; height:30px; padding-left:5px; border-radius:4px; flex-direction:row; justify-content:space-around; align-items:center;\" onmouseover=\"this.style.backgroundColor='#BA9BF8'\" onmouseout=\"this.style.backgroundColor='#9D6CFF'\" onclick=\"window.commands?.execute('create-mitosheet-from-dataframe-output');\">See Full Dataframe in Mito</div> <script> if (window.commands?.hasCommand('create-mitosheet-from-dataframe-output')) document.getElementById('70b4dcd3-81f3-422a-81ff-3748b2e74327').style.display = 'flex' </script> <table border=\"1\" class=\"dataframe\">\n",
       "  <thead>\n",
       "    <tr style=\"text-align: right;\">\n",
       "      <th></th>\n",
       "      <th>GDP per Capita</th>\n",
       "      <th>Debt to GDP</th>\n",
       "      <th>Corruption Ind</th>\n",
       "    </tr>\n",
       "    <tr>\n",
       "      <th>Year</th>\n",
       "      <th></th>\n",
       "      <th></th>\n",
       "      <th></th>\n",
       "    </tr>\n",
       "  </thead>\n",
       "  <tbody>\n",
       "    <tr>\n",
       "      <th>2020</th>\n",
       "      <td>3694.040948</td>\n",
       "      <td>101.0</td>\n",
       "      <td>38.0</td>\n",
       "    </tr>\n",
       "    <tr>\n",
       "      <th>2021</th>\n",
       "      <td>3814.715219</td>\n",
       "      <td>106.7</td>\n",
       "      <td>37.0</td>\n",
       "    </tr>\n",
       "  </tbody>\n",
       "</table></div>"
      ],
      "text/plain": [
       "      GDP per Capita  Debt to GDP  Corruption Ind\n",
       "Year                                             \n",
       "2020     3694.040948        101.0            38.0\n",
       "2021     3814.715219        106.7            37.0"
      ]
     },
     "execution_count": 96,
     "metadata": {},
     "output_type": "execute_result"
    }
   ],
   "source": [
    "final_df.iloc[-2:]"
   ]
  },
  {
   "cell_type": "code",
   "execution_count": 90,
   "id": "8a8c8cd3",
   "metadata": {},
   "outputs": [
    {
     "data": {
      "text/html": [
       "<div><div id=6b32dd93-db48-438d-815d-cc4d08fbfe44 style=\"display:none; background-color:#9D6CFF; color:white; width:200px; height:30px; padding-left:5px; border-radius:4px; flex-direction:row; justify-content:space-around; align-items:center;\" onmouseover=\"this.style.backgroundColor='#BA9BF8'\" onmouseout=\"this.style.backgroundColor='#9D6CFF'\" onclick=\"window.commands?.execute('create-mitosheet-from-dataframe-output');\">See Full Dataframe in Mito</div> <script> if (window.commands?.hasCommand('create-mitosheet-from-dataframe-output')) document.getElementById('6b32dd93-db48-438d-815d-cc4d08fbfe44').style.display = 'flex' </script> <table border=\"1\" class=\"dataframe\">\n",
       "  <thead>\n",
       "    <tr style=\"text-align: right;\">\n",
       "      <th></th>\n",
       "      <th>GDP per Capita_pred</th>\n",
       "      <th>Debt to GDP_pred</th>\n",
       "      <th>Corruption Ind_pred</th>\n",
       "    </tr>\n",
       "  </thead>\n",
       "  <tbody>\n",
       "    <tr>\n",
       "      <th>2022</th>\n",
       "      <td>3326.880938</td>\n",
       "      <td>123.230231</td>\n",
       "      <td>35.419453</td>\n",
       "    </tr>\n",
       "  </tbody>\n",
       "</table></div>"
      ],
      "text/plain": [
       "      GDP per Capita_pred  Debt to GDP_pred  Corruption Ind_pred\n",
       "2022          3326.880938        123.230231            35.419453"
      ]
     },
     "execution_count": 90,
     "metadata": {},
     "output_type": "execute_result"
    }
   ],
   "source": [
    "output.iloc[-1:]"
   ]
  },
  {
   "cell_type": "markdown",
   "id": "78b4ac1c",
   "metadata": {},
   "source": [
    "#### Get performance matrices for predictions"
   ]
  },
  {
   "cell_type": "code",
   "execution_count": 91,
   "id": "327362d6",
   "metadata": {},
   "outputs": [
    {
     "name": "stdout",
     "output_type": "stream",
     "text": [
      "Forecast Error of Corruption Index\n",
      "MAPE:  0.13\n",
      "\n",
      "\n",
      "Forecast Error of GDP per Capita\n",
      "MAPE:  0.1\n",
      "\n",
      "\n",
      "Forecast Error of Debt to GDP\n",
      "MAPE:  0.12\n"
     ]
    }
   ],
   "source": [
    "from sklearn.metrics import mean_squared_error\n",
    "from sklearn.metrics import mean_absolute_error\n",
    "from sklearn.metrics import mean_absolute_percentage_error\n",
    "\n",
    "rmse = mean_absolute_percentage_error(output['Corruption Ind_pred'].iloc[:-1], test_df['Corruption Ind'])\n",
    "print('Forecast Error of Corruption Index')\n",
    "print('MAPE: ', round(rmse,2))\n",
    "print('\\n')\n",
    "\n",
    "rmse = mean_absolute_percentage_error(output['GDP per Capita_pred'].iloc[:-1], test_df['GDP per Capita'])\n",
    "print('Forecast Error of GDP per Capita')\n",
    "print('MAPE: ', round(rmse,2))\n",
    "print('\\n')\n",
    "\n",
    "rmse = mean_absolute_percentage_error(output['Debt to GDP_pred'].iloc[:-1], test_df['Debt to GDP'])\n",
    "print('Forecast Error of Debt to GDP')\n",
    "print('MAPE: ', round(rmse,2))\n",
    "\n",
    "\n",
    "\n",
    "#mae = mean_absolute_error(combined['apple_pred'], combined['apple'])"
   ]
  },
  {
   "cell_type": "code",
   "execution_count": 64,
   "id": "62506164",
   "metadata": {},
   "outputs": [
    {
     "data": {
      "image/png": "[encoded data removed]",
      "text/plain": [
       "<Figure size 720x720 with 3 Axes>"
      ]
     },
     "execution_count": 64,
     "metadata": {},
     "output_type": "execute_result"
    },
    {
     "data": {
      "image/png": "[encoded data removed]",
      "text/plain": [
       "<Figure size 720x720 with 3 Axes>"
      ]
     },
     "metadata": {},
     "output_type": "display_data"
    }
   ],
   "source": [
    "irf = results.irf(10)\n",
    "irf.plot(impulse='Corruption Ind')"
   ]
  },
  {
   "cell_type": "code",
   "execution_count": 66,
   "id": "16c1fff0",
   "metadata": {},
   "outputs": [
    {
     "data": {
      "image/png": "[encoded data removed]",
      "text/plain": [
       "<Figure size 720x720 with 3 Axes>"
      ]
     },
     "execution_count": 66,
     "metadata": {},
     "output_type": "execute_result"
    },
    {
     "data": {
      "image/png": "[encoded data removed]",
      "text/plain": [
       "<Figure size 720x720 with 3 Axes>"
      ]
     },
     "metadata": {},
     "output_type": "display_data"
    }
   ],
   "source": [
    "irf = results.irf(10)\n",
    "irf.plot(impulse='GDP per Capita')"
   ]
  },
  {
   "cell_type": "code",
   "execution_count": null,
   "id": "6fc8ba2b",
   "metadata": {},
   "outputs": [],
   "source": []
  }
 ],
 "metadata": {
  "kernelspec": {
   "display_name": "Python 3",
   "language": "python",
   "name": "python3"
  },
  "language_info": {
   "codemirror_mode": {
    "name": "ipython",
    "version": 3
   },
   "file_extension": ".py",
   "mimetype": "text/x-python",
   "name": "python",
   "nbconvert_exporter": "python",
   "pygments_lexer": "ipython3",
   "version": "3.8.8"
  }
 },
 "nbformat": 4,
 "nbformat_minor": 5
}
